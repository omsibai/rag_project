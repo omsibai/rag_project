{
 "cells": [
  {
   "cell_type": "code",
   "execution_count": 1,
   "id": "68d6cf26-5544-493e-9fbc-0250fe4a3c06",
   "metadata": {},
   "outputs": [],
   "source": [
    "import requests as req\n",
    "from bs4 import BeautifulSoup\n",
    "import bs4\n",
    "import getpass\n",
    "import os\n",
    "\n",
    "os.environ[\"MISTRAL_API_KEY\"] = getpass.getpass()\n",
    "os.environ['HF_TOKEN'] = getpass.getpass()"
   ]
  },
  {
   "cell_type": "markdown",
   "id": "32038daf-2980-469e-9c22-d5a4d8fe96d8",
   "metadata": {
    "jp-MarkdownHeadingCollapsed": true
   },
   "source": [
    "# get all links"
   ]
  },
  {
   "cell_type": "code",
   "execution_count": 4,
   "id": "231ef4e2-5b35-48ef-88a1-1ea5ebb4e085",
   "metadata": {},
   "outputs": [],
   "source": [
    "url = 'https://www.gamespot.com/games/reviews/?review_filter_type%5Bplatform%5D=&review_filter_type%5Bgenre%5D=&review_filter_type%5BtimeFrame%5D=P12M&review_filter_type%5BstartDate%5D=&review_filter_type%5BendDate%5D=&review_filter_type%5BminRating%5D=6&review_filter_type%5Btheme%5D=&review_filter_type%5Bregion%5D=&___review_filter_type%5Bpublishers%5D=&___review_filter_type%5Bdevelopers%5D=&review_filter_type%5Bletter%5D=&sort=date&page='\n",
    "links = []"
   ]
  },
  {
   "cell_type": "code",
   "execution_count": 5,
   "id": "4c56eb13-6faa-4616-a697-094850054818",
   "metadata": {},
   "outputs": [],
   "source": [
    "def parse_link(url):\n",
    "    links = []\n",
    "    response = req.get(url)\n",
    "    soup = BeautifulSoup(response.text,'html.parser')\n",
    "    parse_only=bs4.SoupStrainer(\n",
    "        class_=('card-item__link text-decoration--none')\n",
    "    )\n",
    "    a = soup.find_all(parse_only)\n",
    "    for link in a:\n",
    "        links.append('https://www.gamespot.com'+link.get('href'))\n",
    "    return links"
   ]
  },
  {
   "cell_type": "code",
   "execution_count": 6,
   "id": "43f6a4bd-e31c-4361-ae12-3f0b3060b2fa",
   "metadata": {},
   "outputs": [],
   "source": [
    "for i in range(1,7):\n",
    "    links+=parse_link(url+str(i))"
   ]
  },
  {
   "cell_type": "code",
   "execution_count": 8,
   "id": "03dbd9e2-1254-4eaa-a947-28899e282662",
   "metadata": {},
   "outputs": [],
   "source": [
    "def create_name(url):\n",
    "    return 'The following piece is about the game: '+' '.join(url[url.find('com/reviews')+len('com/reviews/'):url.find('-review')].split('-')).capitalize()+ '. '"
   ]
  },
  {
   "cell_type": "code",
   "execution_count": 9,
   "id": "9492c6d4-439a-47f9-b55c-bca9901d40d9",
   "metadata": {},
   "outputs": [
    {
     "data": {
      "text/plain": [
       "'https://www.gamespot.com/reviews/another-code-recollection-full-of-mysteries/1900-6418168/'"
      ]
     },
     "execution_count": 9,
     "metadata": {},
     "output_type": "execute_result"
    }
   ],
   "source": [
    "links.pop(-6)"
   ]
  },
  {
   "cell_type": "code",
   "execution_count": 11,
   "id": "bfa9c45f-5330-4739-adef-5d4ea0372c04",
   "metadata": {},
   "outputs": [
    {
     "data": {
      "text/plain": [
       "112"
      ]
     },
     "execution_count": 11,
     "metadata": {},
     "output_type": "execute_result"
    }
   ],
   "source": [
    "len(links)"
   ]
  },
  {
   "cell_type": "markdown",
   "id": "3d0b8736-e188-46ff-8ce9-5b5a5005bccb",
   "metadata": {
    "jp-MarkdownHeadingCollapsed": true
   },
   "source": [
    "# parse split embed"
   ]
  },
  {
   "cell_type": "code",
   "execution_count": 13,
   "id": "07e65e83-6f30-44b4-aa5e-113e087f8052",
   "metadata": {},
   "outputs": [
    {
     "name": "stderr",
     "output_type": "stream",
     "text": [
      "USER_AGENT environment variable not set, consider setting it to identify your requests.\n"
     ]
    }
   ],
   "source": [
    "from langchain_community.vectorstores import FAISS\n",
    "from langchain_community.document_loaders import WebBaseLoader\n",
    "from langchain_text_splitters import RecursiveCharacterTextSplitter\n",
    "from langchain_mistralai import MistralAIEmbeddings\n",
    "\n",
    "\n",
    "\n",
    "def embed(url):\n",
    "\n",
    "    name = create_name(url)\n",
    "    loader = WebBaseLoader(web_paths=[url],  bs_kwargs={'parse_only': bs4.SoupStrainer('p')})\n",
    "    text_splitter = RecursiveCharacterTextSplitter(chunk_size=1500, chunk_overlap=300, add_start_index=True)\n",
    "    \n",
    "    all_splits = text_splitter.split_documents(loader.lazy_load())\n",
    "    \n",
    "    all_docs = [name + i.page_content for i in all_splits]\n",
    "\n",
    "    embeddings = MistralAIEmbeddings(model=\"mistral-embed\")\n",
    "    text_embeddings = embeddings.embed_documents(all_docs)\n",
    "    text_embedding_pairs = zip(all_docs, text_embeddings)\n",
    "    \n",
    "    return text_embedding_pairs"
   ]
  },
  {
   "cell_type": "code",
   "execution_count": 15,
   "id": "0c7c5308-5fd7-450d-9330-9d9c8c3c9601",
   "metadata": {},
   "outputs": [
    {
     "name": "stderr",
     "output_type": "stream",
     "text": [
      "C:\\Users\\matve\\anaconda3\\Lib\\site-packages\\langchain_mistralai\\embeddings.py:175: UserWarning: Could not download mistral tokenizer from Huggingface for calculating batch sizes. Set a Huggingface token via the HF_TOKEN environment variable to download the real tokenizer. Falling back to a dummy tokenizer that uses `len()`.\n",
      "  warnings.warn(\n"
     ]
    }
   ],
   "source": [
    "embedding_model = MistralAIEmbeddings(model=\"mistral-embed\")"
   ]
  },
  {
   "cell_type": "code",
   "execution_count": 16,
   "id": "3b27e41c-e82e-4112-a8cc-8f9e0cb0a8c5",
   "metadata": {},
   "outputs": [],
   "source": [
    "db = FAISS.from_embeddings(embed(links[0]),embedding=embedding_model)"
   ]
  },
  {
   "cell_type": "code",
   "execution_count": 17,
   "id": "4211511c-e86e-4d02-8872-0cc8ef69baf7",
   "metadata": {
    "scrolled": true
   },
   "outputs": [
    {
     "name": "stderr",
     "output_type": "stream",
     "text": [
      "An error occurred with MistralAI: 'data'\n"
     ]
    },
    {
     "name": "stdout",
     "output_type": "stream",
     "text": [
      "1\n"
     ]
    },
    {
     "name": "stderr",
     "output_type": "stream",
     "text": [
      "An error occurred with MistralAI: 'data'\n"
     ]
    },
    {
     "name": "stdout",
     "output_type": "stream",
     "text": [
      "1\n"
     ]
    },
    {
     "name": "stderr",
     "output_type": "stream",
     "text": [
      "An error occurred with MistralAI: 'data'\n"
     ]
    },
    {
     "name": "stdout",
     "output_type": "stream",
     "text": [
      "1\n"
     ]
    },
    {
     "name": "stderr",
     "output_type": "stream",
     "text": [
      "An error occurred with MistralAI: 'data'\n"
     ]
    },
    {
     "name": "stdout",
     "output_type": "stream",
     "text": [
      "11\n"
     ]
    },
    {
     "name": "stderr",
     "output_type": "stream",
     "text": [
      "An error occurred with MistralAI: 'data'\n"
     ]
    },
    {
     "name": "stdout",
     "output_type": "stream",
     "text": [
      "13\n"
     ]
    },
    {
     "name": "stderr",
     "output_type": "stream",
     "text": [
      "An error occurred with MistralAI: 'data'\n"
     ]
    },
    {
     "name": "stdout",
     "output_type": "stream",
     "text": [
      "13\n"
     ]
    },
    {
     "name": "stderr",
     "output_type": "stream",
     "text": [
      "An error occurred with MistralAI: 'data'\n"
     ]
    },
    {
     "name": "stdout",
     "output_type": "stream",
     "text": [
      "13\n"
     ]
    },
    {
     "name": "stderr",
     "output_type": "stream",
     "text": [
      "An error occurred with MistralAI: 'data'\n"
     ]
    },
    {
     "name": "stdout",
     "output_type": "stream",
     "text": [
      "19\n"
     ]
    },
    {
     "name": "stderr",
     "output_type": "stream",
     "text": [
      "An error occurred with MistralAI: 'data'\n"
     ]
    },
    {
     "name": "stdout",
     "output_type": "stream",
     "text": [
      "24\n"
     ]
    },
    {
     "name": "stderr",
     "output_type": "stream",
     "text": [
      "An error occurred with MistralAI: 'data'\n"
     ]
    },
    {
     "name": "stdout",
     "output_type": "stream",
     "text": [
      "26\n"
     ]
    },
    {
     "name": "stderr",
     "output_type": "stream",
     "text": [
      "An error occurred with MistralAI: 'data'\n"
     ]
    },
    {
     "name": "stdout",
     "output_type": "stream",
     "text": [
      "28\n"
     ]
    },
    {
     "name": "stderr",
     "output_type": "stream",
     "text": [
      "An error occurred with MistralAI: 'data'\n"
     ]
    },
    {
     "name": "stdout",
     "output_type": "stream",
     "text": [
      "38\n"
     ]
    },
    {
     "name": "stderr",
     "output_type": "stream",
     "text": [
      "An error occurred with MistralAI: 'data'\n"
     ]
    },
    {
     "name": "stdout",
     "output_type": "stream",
     "text": [
      "38\n"
     ]
    },
    {
     "name": "stderr",
     "output_type": "stream",
     "text": [
      "An error occurred with MistralAI: 'data'\n"
     ]
    },
    {
     "name": "stdout",
     "output_type": "stream",
     "text": [
      "38\n"
     ]
    },
    {
     "name": "stderr",
     "output_type": "stream",
     "text": [
      "An error occurred with MistralAI: 'data'\n"
     ]
    },
    {
     "name": "stdout",
     "output_type": "stream",
     "text": [
      "38\n"
     ]
    },
    {
     "name": "stderr",
     "output_type": "stream",
     "text": [
      "An error occurred with MistralAI: 'data'\n"
     ]
    },
    {
     "name": "stdout",
     "output_type": "stream",
     "text": [
      "40\n"
     ]
    },
    {
     "name": "stderr",
     "output_type": "stream",
     "text": [
      "An error occurred with MistralAI: 'data'\n"
     ]
    },
    {
     "name": "stdout",
     "output_type": "stream",
     "text": [
      "45\n"
     ]
    },
    {
     "name": "stderr",
     "output_type": "stream",
     "text": [
      "An error occurred with MistralAI: 'data'\n"
     ]
    },
    {
     "name": "stdout",
     "output_type": "stream",
     "text": [
      "53\n"
     ]
    },
    {
     "name": "stderr",
     "output_type": "stream",
     "text": [
      "An error occurred with MistralAI: 'data'\n"
     ]
    },
    {
     "name": "stdout",
     "output_type": "stream",
     "text": [
      "57\n"
     ]
    },
    {
     "name": "stderr",
     "output_type": "stream",
     "text": [
      "An error occurred with MistralAI: 'data'\n"
     ]
    },
    {
     "name": "stdout",
     "output_type": "stream",
     "text": [
      "62\n"
     ]
    },
    {
     "name": "stderr",
     "output_type": "stream",
     "text": [
      "An error occurred with MistralAI: 'data'\n"
     ]
    },
    {
     "name": "stdout",
     "output_type": "stream",
     "text": [
      "62\n"
     ]
    },
    {
     "name": "stderr",
     "output_type": "stream",
     "text": [
      "An error occurred with MistralAI: 'data'\n"
     ]
    },
    {
     "name": "stdout",
     "output_type": "stream",
     "text": [
      "62\n"
     ]
    },
    {
     "name": "stderr",
     "output_type": "stream",
     "text": [
      "An error occurred with MistralAI: 'data'\n"
     ]
    },
    {
     "name": "stdout",
     "output_type": "stream",
     "text": [
      "62\n"
     ]
    },
    {
     "name": "stderr",
     "output_type": "stream",
     "text": [
      "An error occurred with MistralAI: 'data'\n"
     ]
    },
    {
     "name": "stdout",
     "output_type": "stream",
     "text": [
      "67\n"
     ]
    },
    {
     "name": "stderr",
     "output_type": "stream",
     "text": [
      "An error occurred with MistralAI: 'data'\n"
     ]
    },
    {
     "name": "stdout",
     "output_type": "stream",
     "text": [
      "67\n"
     ]
    },
    {
     "name": "stderr",
     "output_type": "stream",
     "text": [
      "An error occurred with MistralAI: 'data'\n"
     ]
    },
    {
     "name": "stdout",
     "output_type": "stream",
     "text": [
      "71\n"
     ]
    },
    {
     "name": "stderr",
     "output_type": "stream",
     "text": [
      "An error occurred with MistralAI: 'data'\n"
     ]
    },
    {
     "name": "stdout",
     "output_type": "stream",
     "text": [
      "76\n"
     ]
    },
    {
     "name": "stderr",
     "output_type": "stream",
     "text": [
      "An error occurred with MistralAI: 'data'\n"
     ]
    },
    {
     "name": "stdout",
     "output_type": "stream",
     "text": [
      "94\n"
     ]
    },
    {
     "name": "stderr",
     "output_type": "stream",
     "text": [
      "An error occurred with MistralAI: 'data'\n"
     ]
    },
    {
     "name": "stdout",
     "output_type": "stream",
     "text": [
      "97\n"
     ]
    },
    {
     "name": "stderr",
     "output_type": "stream",
     "text": [
      "An error occurred with MistralAI: 'data'\n"
     ]
    },
    {
     "name": "stdout",
     "output_type": "stream",
     "text": [
      "97\n"
     ]
    },
    {
     "name": "stderr",
     "output_type": "stream",
     "text": [
      "An error occurred with MistralAI: 'data'\n"
     ]
    },
    {
     "name": "stdout",
     "output_type": "stream",
     "text": [
      "97\n"
     ]
    },
    {
     "name": "stderr",
     "output_type": "stream",
     "text": [
      "An error occurred with MistralAI: 'data'\n"
     ]
    },
    {
     "name": "stdout",
     "output_type": "stream",
     "text": [
      "97\n"
     ]
    },
    {
     "name": "stderr",
     "output_type": "stream",
     "text": [
      "An error occurred with MistralAI: 'data'\n"
     ]
    },
    {
     "name": "stdout",
     "output_type": "stream",
     "text": [
      "97\n"
     ]
    },
    {
     "name": "stderr",
     "output_type": "stream",
     "text": [
      "An error occurred with MistralAI: 'data'\n"
     ]
    },
    {
     "name": "stdout",
     "output_type": "stream",
     "text": [
      "97\n"
     ]
    },
    {
     "name": "stderr",
     "output_type": "stream",
     "text": [
      "An error occurred with MistralAI: 'data'\n"
     ]
    },
    {
     "name": "stdout",
     "output_type": "stream",
     "text": [
      "97\n"
     ]
    },
    {
     "name": "stderr",
     "output_type": "stream",
     "text": [
      "An error occurred with MistralAI: 'data'\n"
     ]
    },
    {
     "name": "stdout",
     "output_type": "stream",
     "text": [
      "97\n"
     ]
    },
    {
     "name": "stderr",
     "output_type": "stream",
     "text": [
      "An error occurred with MistralAI: 'data'\n"
     ]
    },
    {
     "name": "stdout",
     "output_type": "stream",
     "text": [
      "97\n"
     ]
    },
    {
     "name": "stderr",
     "output_type": "stream",
     "text": [
      "An error occurred with MistralAI: 'data'\n"
     ]
    },
    {
     "name": "stdout",
     "output_type": "stream",
     "text": [
      "97\n"
     ]
    },
    {
     "name": "stderr",
     "output_type": "stream",
     "text": [
      "An error occurred with MistralAI: 'data'\n"
     ]
    },
    {
     "name": "stdout",
     "output_type": "stream",
     "text": [
      "97\n"
     ]
    },
    {
     "name": "stderr",
     "output_type": "stream",
     "text": [
      "An error occurred with MistralAI: 'data'\n"
     ]
    },
    {
     "name": "stdout",
     "output_type": "stream",
     "text": [
      "97\n"
     ]
    },
    {
     "name": "stderr",
     "output_type": "stream",
     "text": [
      "An error occurred with MistralAI: 'data'\n"
     ]
    },
    {
     "name": "stdout",
     "output_type": "stream",
     "text": [
      "97\n"
     ]
    },
    {
     "name": "stderr",
     "output_type": "stream",
     "text": [
      "An error occurred with MistralAI: 'data'\n"
     ]
    },
    {
     "name": "stdout",
     "output_type": "stream",
     "text": [
      "105\n"
     ]
    }
   ],
   "source": [
    "i = 1\n",
    "while i<len(links):\n",
    "    try:\n",
    "        db.add_embeddings(embed(links[i]))\n",
    "        i+=1\n",
    "    except:\n",
    "        print(i)\n",
    "        continue"
   ]
  },
  {
   "cell_type": "code",
   "execution_count": 18,
   "id": "6ba8e97b-c05e-4805-b438-88077c3bbd27",
   "metadata": {},
   "outputs": [
    {
     "data": {
      "text/plain": [
       "1220"
      ]
     },
     "execution_count": 18,
     "metadata": {},
     "output_type": "execute_result"
    }
   ],
   "source": [
    "db.index.ntotal"
   ]
  },
  {
   "cell_type": "code",
   "execution_count": 19,
   "id": "dc1bc782-00bf-4374-894c-8c7ab99480dc",
   "metadata": {},
   "outputs": [],
   "source": [
    "db.save_local('faiss_storage_1500_300')"
   ]
  },
  {
   "cell_type": "markdown",
   "id": "23d9aa3c-612f-4f15-93fd-1fe02557bbc7",
   "metadata": {
    "jp-MarkdownHeadingCollapsed": true
   },
   "source": [
    "# test"
   ]
  },
  {
   "cell_type": "code",
   "execution_count": 22,
   "id": "0d2dcf9f-4241-4a21-8960-9fdf9d4a4f16",
   "metadata": {},
   "outputs": [
    {
     "data": {
      "text/plain": [
       "[Document(metadata={}, page_content=\"The following piece is about the game: Call of duty black ops 6 campaign. where you just march forward and shoot guys in an approach that harkens all the way back to the beaches of Normandy and the first Call of Duty, there are also plenty of other moments where you need to be sneaky and careful. Your mission to bring aboard master of disguise Sev is a low-profile trip through mob enforcers, in which you listen in on a phone call and then assassinate an underling. You're more or less free to figure out your way into a well-guarded church belltower to set up for the shot. You can blast your way in or stealth your way through, and while the level isn't huge or expansive in an immersive-sim way, there are enough options that your choice of how to approach the problem feels meaningful.There are a bunch of opportunities for stealth like this. Black Ops 6 isn't great as a stealth game--enemies are dumb as hell, their peripheral vision is basically nonexistent, and you can crouch-walk right behind them with zero consequences. But the weak stealth works because the density of enemies in any given area makes up for their lack of brains, and because of how great it feels to crack off a headshot with a silenced pistol on a soldier you forgot about right before he calls for help. Call of Duty's consistently great gunplay means that when stealth fails, it just leads back to what the franchise is best at. It also means you can save a scuffed attempt at sneakiness by fluidly taking out all the enemies in a room before they realize what's going on, and doing so\"),\n",
       " Document(metadata={}, page_content=\"The following piece is about the game: Call of duty black ops 6 campaign. character moments in the campaign like this, and it's a shame Black Ops 6 never commits to making them meaningful for the larger narrative. I still don't really get the larger narrative, and the inclusion of elements like the digital Clinton cameo or a raid on a Saddam Hussein palace play like additions to try to make a weirdo story feel more realistic and less meaningless, without accomplishing either. Like a lot of these games, Black Ops 6 gestures in the direction of some larger point about spies and operatives fighting shadowy wars for unaccountable people, but eventually trails off without committing.I got especially lost in a late-game turn where you spend a bunch of time inside the mind of the villain during an interrogation. It's a reminder that Call of Duty games often have the problem of acting like they expect you to know more than you do, and thus always causing you to feel like you missed something or are forgetting a crucial point. This person has appeared in, like, two scenes--should I know who they are? Were they in past games? Should I care about their moral struggles and tragic backstory? The whole sequence is an effort to humanize a character I had almost zero relationship with, so it amounts to a lot of illusory wheel-spinning. It doesn't help that surreal shattered-landscape-of-the-mind levels like this have been done to death by plenty of games--including Call of Duty, as they were basically the focus of Black Ops 3.Your main player character, Case,\"),\n",
       " Document(metadata={}, page_content='The following piece is about the game: Call of duty black ops 6 campaign. its best when it gives you all its tools and lets you loose to deal with a problem as you see fit. It provides a lot of those opportunities, adding just enough to the underlying gameplay that you get the satisfaction of formulating a strategy and executing it, as well as the fun of dealing with the fallout, whether it goes to plan or not. Black Ops 6, like Black Ops 2, combines gameplay ideas to make something that feels a little different from the usual for Call of Duty, and while not every system or addition is a knockout, taken together, they make something that shows how Call of Duty games can grow without losing what makes the franchise great.Use your keyboard!Log in to comment'),\n",
       " Document(metadata={}, page_content=\"The following piece is about the game: Call of duty black ops 6 campaign. calls for help. Call of Duty's consistently great gunplay means that when stealth fails, it just leads back to what the franchise is best at. It also means you can save a scuffed attempt at sneakiness by fluidly taking out all the enemies in a room before they realize what's going on, and doing so is satisfying every single time.Several missions use this combination of stealth, action, and freedom in approach to problems to solid effect. When you head back to Desert Storm, the mission takes on a sort of wide-linear design, where you jump in a car with your team and drive around a big map, completing objectives as you see fit. Scouting an approach, tagging enemies with a special camera that highlights them for you, gives the whole affair a Far Cry-lite feel.The mission isn't as robust or systematically interesting as Far Cry, but that little extra freedom and planning is a great way to lead into Call of Duty's over-the-top battles when you finally start shooting. Your job here is to assault some big, well-defended Scud missile launchers, but you can also wipe out Pantheon camps to gather intel on the group's plans, save a band of crashed Delta Force soldiers, and knock out anti-air missile batteries to allow for air support. Completing the side objectives gives you Scorestreak rewards like the ability to call in an attack helicopter or an airstrike; coupled with the many gadgets Black Ops 6 includes, you wind up with a lot of creative, explosive ways to solve problems\")]"
      ]
     },
     "execution_count": 22,
     "metadata": {},
     "output_type": "execute_result"
    }
   ],
   "source": [
    "db.similarity_search('call of duty')"
   ]
  },
  {
   "cell_type": "code",
   "execution_count": null,
   "id": "dc5c2ed2-9c8f-4532-a748-ede191171301",
   "metadata": {},
   "outputs": [],
   "source": []
  }
 ],
 "metadata": {
  "kernelspec": {
   "display_name": "Python 3 (ipykernel)",
   "language": "python",
   "name": "python3"
  },
  "language_info": {
   "codemirror_mode": {
    "name": "ipython",
    "version": 3
   },
   "file_extension": ".py",
   "mimetype": "text/x-python",
   "name": "python",
   "nbconvert_exporter": "python",
   "pygments_lexer": "ipython3",
   "version": "3.12.4"
  }
 },
 "nbformat": 4,
 "nbformat_minor": 5
}
